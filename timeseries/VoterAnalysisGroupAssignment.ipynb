{
 "cells": [
  {
   "cell_type": "markdown",
   "metadata": {},
   "source": [
    "# Voting Analysis\n",
    "## Group 6 - Alek Peters, John Valderama, Heather Novak"
   ]
  },
  {
   "cell_type": "markdown",
   "metadata": {},
   "source": [
    "------------------------------------------------------------------------"
   ]
  },
  {
   "cell_type": "markdown",
   "metadata": {},
   "source": [
    "## Q: Could the majority of the popular vote for U.S. President in 2012 have been cast for Romney rather than Obama because of voter fraud?"
   ]
  },
  {
   "cell_type": "markdown",
   "metadata": {},
   "source": [
    "## Take a Look at the Data"
   ]
  },
  {
   "cell_type": "code",
   "execution_count": 1,
   "metadata": {},
   "outputs": [],
   "source": [
    "import pandas as pd\n",
    "import requests"
   ]
  },
  {
   "cell_type": "code",
   "execution_count": 2,
   "metadata": {},
   "outputs": [],
   "source": [
    "r = requests.get('https://publicinterestlegal.org/county-list', headers={'User-Agent': 'Mozilla/5.0 (Macintosh; Intel Mac OS X 10_10_1) AppleWebKit/537.36 (KHTML, like Gecko) Chrome/39.0.2171.95 Safari/537.36'})"
   ]
  },
  {
   "cell_type": "code",
   "execution_count": 3,
   "metadata": {},
   "outputs": [],
   "source": [
    "regVoters = pd.read_html(r.text, header=0)[0]"
   ]
  },
  {
   "cell_type": "markdown",
   "metadata": {},
   "source": [
    "**Data Dictionary**\n",
    "* COUNTY(string): The name of the county\n",
    "* STATE(string): The name of the state\n",
    "* REGISTRATION RATE(float): The amount percentage the population that are registered to vote."
   ]
  },
  {
   "cell_type": "code",
   "execution_count": 4,
   "metadata": {},
   "outputs": [
    {
     "name": "stdout",
     "output_type": "stream",
     "text": [
      "WARNING *** file size (3825153) not 512 + multiple of sector size (512)\n"
     ]
    }
   ],
   "source": [
    "elecdf = pd.read_excel('http://image.guardian.co.uk/sys-files/Guardian/documents/2012/11/14/US_elect_county.xls')\n",
    "elecdf.rename(columns={'%':'Obama%', '%.1':'Romney%'}, inplace=True)"
   ]
  },
  {
   "cell_type": "markdown",
   "metadata": {},
   "source": [
    "#### Q: What data fields might be useful in answering the research question and how could you use them?\n",
    "##### A: We could use the STATE and REGISTRATION RATE fields from the 'county list' data to determine the states with excess voters. We can combine this data with the 'US Elect County' data, specifically the fields State Postal (Which we can convert to match STATE from the other data), the Obama % rate, and the Romney % rate. We would use these fields to determine what the outcome was in the states that were determined to have excess votes."
   ]
  },
  {
   "cell_type": "code",
   "execution_count": 5,
   "metadata": {},
   "outputs": [],
   "source": [
    "# Make the state column the same format for both dataframes\n",
    "states = {\n",
    "        'AK': 'Alaska',\n",
    "        'AL': 'Alabama',\n",
    "        'AR': 'Arkansas',\n",
    "        'AS': 'American Samoa',\n",
    "        'AZ': 'Arizona',\n",
    "        'CA': 'California',\n",
    "        'CO': 'Colorado',\n",
    "        'CT': 'Connecticut',\n",
    "        'DC': 'District of Columbia',\n",
    "        'DE': 'Delaware',\n",
    "        'FL': 'Florida',\n",
    "        'GA': 'Georgia',\n",
    "        'GU': 'Guam',\n",
    "        'HI': 'Hawaii',\n",
    "        'IA': 'Iowa',\n",
    "        'ID': 'Idaho',\n",
    "        'IL': 'Illinois',\n",
    "        'IN': 'Indiana',\n",
    "        'KS': 'Kansas',\n",
    "        'KY': 'Kentucky',\n",
    "        'LA': 'Louisiana',\n",
    "        'MA': 'Massachusetts',\n",
    "        'MD': 'Maryland',\n",
    "        'ME': 'Maine',\n",
    "        'MI': 'Michigan',\n",
    "        'MN': 'Minnesota',\n",
    "        'MO': 'Missouri',\n",
    "        'MP': 'Northern Mariana Islands',\n",
    "        'MS': 'Mississippi',\n",
    "        'MT': 'Montana',\n",
    "        'NA': 'National',\n",
    "        'NC': 'North Carolina',\n",
    "        'ND': 'North Dakota',\n",
    "        'NE': 'Nebraska',\n",
    "        'NH': 'New Hampshire',\n",
    "        'NJ': 'New Jersey',\n",
    "        'NM': 'New Mexico',\n",
    "        'NV': 'Nevada',\n",
    "        'NY': 'New York',\n",
    "        'OH': 'Ohio',\n",
    "        'OK': 'Oklahoma',\n",
    "        'OR': 'Oregon',\n",
    "        'PA': 'Pennsylvania',\n",
    "        'PR': 'Puerto Rico',\n",
    "        'RI': 'Rhode Island',\n",
    "        'SC': 'South Carolina',\n",
    "        'SD': 'South Dakota',\n",
    "        'TN': 'Tennessee',\n",
    "        'TX': 'Texas',\n",
    "        'UT': 'Utah',\n",
    "        'VA': 'Virginia',\n",
    "        'VI': 'Virgin Islands',\n",
    "        'VT': 'Vermont',\n",
    "        'WA': 'Washington',\n",
    "        'WI': 'Wisconsin',\n",
    "        'WV': 'West Virginia',\n",
    "        'WY': 'Wyoming'\n",
    "}\n",
    "\n",
    "# replace the state postal name with the full state names\n",
    "elecdf['State Postal'].replace(states, inplace=True)"
   ]
  },
  {
   "cell_type": "markdown",
   "metadata": {},
   "source": [
    "**Data Dictionary**\n",
    "\n",
    "* State (string): State Name\n",
    "* County Name(string): Name of county\n",
    "* FIPS(int): FIPS code for the state\n",
    "* Obama vote(int): Number of votes for Obama\n",
    "* Obama%(float): Percentage of voters that voted for Obama\n",
    "* Romney vote: Number of votes for Romneu\n",
    "* Romney%: The percentage of voters that voted for Romney"
   ]
  },
  {
   "cell_type": "markdown",
   "metadata": {},
   "source": [
    "#### Q: How is the data formatted (what type of files, string versus numerical data)?\n",
    "##### A: The data from the excel spreadsheet is formatted as objects except for FIPS which is int64. We can redefine these types to be numeric/int.\n",
    "##### Registration rate is set as an object, but needs to be a float value. That's due to the \"%\". We can convert it to a float by removing that and coercing the column to float."
   ]
  },
  {
   "cell_type": "code",
   "execution_count": 6,
   "metadata": {},
   "outputs": [],
   "source": [
    "#convert REGISTRATION RATE to float values\n",
    "regVoters['REGISTRATION RATE'] = regVoters['REGISTRATION RATE'].str.replace('%', '').astype('float')"
   ]
  },
  {
   "cell_type": "markdown",
   "metadata": {},
   "source": [
    "#### Q: Did your team find any missing data?\n",
    "##### A: We did not find any missing data. We interpreted 'missing data' as data with a NaN value or empty strings."
   ]
  },
  {
   "cell_type": "markdown",
   "metadata": {},
   "source": [
    "#### Q: Did your team find any data that could be erroneous?\n",
    "##### A: I don't think that the county or zip code matter unless we wanted to really drill down the data. For a high level response to the question asked, I think that state is fine since the votes for President are determined per state and not per county or district. The Excel file had a second tab with all of the data in it which was unused. This data included third party or independent candidates and went into more detail."
   ]
  },
  {
   "cell_type": "markdown",
   "metadata": {},
   "source": [
    "#### Q: What unusual facets of the data should the analysis take into account?\n",
    "##### A: Not that this is 'unusual' but something to consider is that there is a possibility that there were fraudulent votes for a third party which wouldn't be shown in this dataset, but could be found in the FULL DATA tab in the excel workbook for 'US Elect County'"
   ]
  },
  {
   "cell_type": "markdown",
   "metadata": {},
   "source": [
    "## Analysis Design"
   ]
  },
  {
   "cell_type": "markdown",
   "metadata": {},
   "source": [
    "#### Q: Give a formula for a computation your team would use for this analysis. Describe your computation specifically and how you assess it relative to the criteria in the video.\n",
    "##### A: Votes*(registrationrate-100)-ObamaMarginofVictory = Potential Impact of Fraudulent Votes on Election Outcome"
   ]
  },
  {
   "cell_type": "markdown",
   "metadata": {},
   "source": [
    "#### Q: Explain why this computation makes sense, in a few short sentences.\n",
    "##### A: This would calculate the percentage of fraudulent votes for Obama based on total votes across the country. This computation makes sense to evaluate the potential impact of fraudelent votes on the outcome of the election by comparing the percentage of fraudulent votes with the margin of victory in the election."
   ]
  },
  {
   "cell_type": "markdown",
   "metadata": {},
   "source": [
    "#### Q: What data fields would your team use to tie together the two data sources?\n",
    "##### A: As stated above, we could use the STATE and REGISTRATION RATE fields from the 'county list' data to determine the states with excess voters. We can combine this data with the 'US Elect County' data, specifically the fields State Postal (Which we can convert to match STATE from the other data), the Obama % rate, and the Romney % rate. We would use these fields to determine what the outcome was in the states that were determined to have excess votes."
   ]
  },
  {
   "cell_type": "code",
   "execution_count": 8,
   "metadata": {},
   "outputs": [],
   "source": [
    "regVoters['COUNTY'] = regVoters['COUNTY'].str.replace(' County', '')"
   ]
  },
  {
   "cell_type": "code",
   "execution_count": 9,
   "metadata": {},
   "outputs": [],
   "source": [
    "# merge dataframes on state & county\n",
    "fraudCounties = pd.merge(regVoters, elecdf, left_on=['STATE', 'COUNTY'], right_on=['State Postal', 'County Name'])"
   ]
  },
  {
   "cell_type": "code",
   "execution_count": 11,
   "metadata": {},
   "outputs": [
    {
     "data": {
      "text/html": [
       "<div>\n",
       "<style scoped>\n",
       "    .dataframe tbody tr th:only-of-type {\n",
       "        vertical-align: middle;\n",
       "    }\n",
       "\n",
       "    .dataframe tbody tr th {\n",
       "        vertical-align: top;\n",
       "    }\n",
       "\n",
       "    .dataframe thead th {\n",
       "        text-align: right;\n",
       "    }\n",
       "</style>\n",
       "<table border=\"1\" class=\"dataframe\">\n",
       "  <thead>\n",
       "    <tr style=\"text-align: right;\">\n",
       "      <th></th>\n",
       "      <th>COUNTY</th>\n",
       "      <th>STATE</th>\n",
       "      <th>REGISTRATION RATE</th>\n",
       "      <th>State Postal</th>\n",
       "      <th>County Name</th>\n",
       "      <th>FIPS</th>\n",
       "      <th>Obama vote</th>\n",
       "      <th>Obama%</th>\n",
       "      <th>Romney vote</th>\n",
       "      <th>Romney%</th>\n",
       "    </tr>\n",
       "  </thead>\n",
       "  <tbody>\n",
       "    <tr>\n",
       "      <th>0</th>\n",
       "      <td>Lowndes</td>\n",
       "      <td>Alabama</td>\n",
       "      <td>127.0</td>\n",
       "      <td>Alabama</td>\n",
       "      <td>Lowndes</td>\n",
       "      <td>1085</td>\n",
       "      <td>5747</td>\n",
       "      <td>76.4</td>\n",
       "      <td>1754</td>\n",
       "      <td>23.3</td>\n",
       "    </tr>\n",
       "    <tr>\n",
       "      <th>1</th>\n",
       "      <td>Perry</td>\n",
       "      <td>Alabama</td>\n",
       "      <td>113.0</td>\n",
       "      <td>Alabama</td>\n",
       "      <td>Perry</td>\n",
       "      <td>1105</td>\n",
       "      <td>4536</td>\n",
       "      <td>74.8</td>\n",
       "      <td>1504</td>\n",
       "      <td>24.8</td>\n",
       "    </tr>\n",
       "    <tr>\n",
       "      <th>2</th>\n",
       "      <td>Greene</td>\n",
       "      <td>Alabama</td>\n",
       "      <td>112.0</td>\n",
       "      <td>Alabama</td>\n",
       "      <td>Greene</td>\n",
       "      <td>1063</td>\n",
       "      <td>4514</td>\n",
       "      <td>84.7</td>\n",
       "      <td>799</td>\n",
       "      <td>15.0</td>\n",
       "    </tr>\n",
       "    <tr>\n",
       "      <th>3</th>\n",
       "      <td>Macon</td>\n",
       "      <td>Alabama</td>\n",
       "      <td>112.0</td>\n",
       "      <td>Alabama</td>\n",
       "      <td>Macon</td>\n",
       "      <td>1087</td>\n",
       "      <td>9045</td>\n",
       "      <td>87.1</td>\n",
       "      <td>1322</td>\n",
       "      <td>12.7</td>\n",
       "    </tr>\n",
       "    <tr>\n",
       "      <th>4</th>\n",
       "      <td>Wilcox</td>\n",
       "      <td>Alabama</td>\n",
       "      <td>110.0</td>\n",
       "      <td>Alabama</td>\n",
       "      <td>Wilcox</td>\n",
       "      <td>1131</td>\n",
       "      <td>4867</td>\n",
       "      <td>74.3</td>\n",
       "      <td>1676</td>\n",
       "      <td>25.6</td>\n",
       "    </tr>\n",
       "  </tbody>\n",
       "</table>\n",
       "</div>"
      ],
      "text/plain": [
       "    COUNTY    STATE  REGISTRATION RATE State Postal County Name  FIPS  \\\n",
       "0  Lowndes  Alabama              127.0      Alabama     Lowndes  1085   \n",
       "1    Perry  Alabama              113.0      Alabama       Perry  1105   \n",
       "2   Greene  Alabama              112.0      Alabama      Greene  1063   \n",
       "3    Macon  Alabama              112.0      Alabama       Macon  1087   \n",
       "4   Wilcox  Alabama              110.0      Alabama      Wilcox  1131   \n",
       "\n",
       "   Obama vote  Obama%  Romney vote  Romney%  \n",
       "0        5747    76.4         1754     23.3  \n",
       "1        4536    74.8         1504     24.8  \n",
       "2        4514    84.7          799     15.0  \n",
       "3        9045    87.1         1322     12.7  \n",
       "4        4867    74.3         1676     25.6  "
      ]
     },
     "execution_count": 11,
     "metadata": {},
     "output_type": "execute_result"
    }
   ],
   "source": [
    "fraudCounties.head()"
   ]
  },
  {
   "cell_type": "markdown",
   "metadata": {},
   "source": [
    "#### Q: What software might you use in tying the data sources together?\n",
    "##### A: You could use Python, R, or Excel to tie the data together."
   ]
  },
  {
   "cell_type": "markdown",
   "metadata": {},
   "source": [
    "#### Q: What issues do you see in correlating those fields due to, for example, differences in formatting?\n",
    "##### A: Fields need to be numeric for graphs, charts, or calculations. If any of the fields are string values because of dollar signs, commas, etc., they will need to be stripped and converted before proceeding. The column values need to match in order for the dataframes to merge together correctly. For example the counties were named differently, so Lowndes and Lowndes County wouldn't be able to merge since it's seen as two different counties. This was demonstrated in the above code."
   ]
  },
  {
   "cell_type": "markdown",
   "metadata": {},
   "source": [
    "## Propose a Better Question"
   ]
  },
  {
   "cell_type": "markdown",
   "metadata": {},
   "source": [
    "#### Q: What improved research question would your team suggest?\n",
    "##### A: Which states experienced voter fraud and which candidate won those states? Additionally, did the fraudulent votes matter to the outcome (was the margin of victory equal to or less than the number of fraudulent votes)?"
   ]
  },
  {
   "cell_type": "markdown",
   "metadata": {},
   "source": [
    "#### Q: Why is your question an improvement on the original question?\n",
    "##### A: This question is an improvement to the original question because it takes into account the election process. The popular vote is important, but the electoral college determines the presidency. Therefore, looking at voter fraud by state and determining if fraud could have changed the state outcome is a more important question."
   ]
  }
 ],
 "metadata": {
  "kernelspec": {
   "display_name": "Python 3",
   "language": "python",
   "name": "python3"
  },
  "language_info": {
   "codemirror_mode": {
    "name": "ipython",
    "version": 3
   },
   "file_extension": ".py",
   "mimetype": "text/x-python",
   "name": "python",
   "nbconvert_exporter": "python",
   "pygments_lexer": "ipython3",
   "version": "3.7.4"
  }
 },
 "nbformat": 4,
 "nbformat_minor": 2
}
